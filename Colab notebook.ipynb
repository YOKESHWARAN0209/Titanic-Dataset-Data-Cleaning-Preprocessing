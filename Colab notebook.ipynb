{
  "nbformat": 4,
  "nbformat_minor": 0,
  "metadata": {
    "colab": {
      "provenance": []
    },
    "kernelspec": {
      "name": "python3",
      "display_name": "Python 3"
    },
    "language_info": {
      "name": "python"
    }
  },
  "cells": [
    {
      "cell_type": "code",
      "execution_count": 2,
      "metadata": {
        "colab": {
          "base_uri": "https://localhost:8080/",
          "height": 1000
        },
        "id": "cwmTS-o_8r7Q",
        "outputId": "59662171-6447-438b-ec80-4100507f9a16"
      },
      "outputs": [
        {
          "output_type": "stream",
          "name": "stdout",
          "text": [
            "--- Initial Dataset Info ---\n",
            "<class 'pandas.core.frame.DataFrame'>\n",
            "RangeIndex: 891 entries, 0 to 890\n",
            "Data columns (total 12 columns):\n",
            " #   Column       Non-Null Count  Dtype  \n",
            "---  ------       --------------  -----  \n",
            " 0   PassengerId  891 non-null    int64  \n",
            " 1   Survived     891 non-null    int64  \n",
            " 2   Pclass       891 non-null    int64  \n",
            " 3   Name         891 non-null    object \n",
            " 4   Sex          891 non-null    object \n",
            " 5   Age          714 non-null    float64\n",
            " 6   SibSp        891 non-null    int64  \n",
            " 7   Parch        891 non-null    int64  \n",
            " 8   Ticket       891 non-null    object \n",
            " 9   Fare         891 non-null    float64\n",
            " 10  Cabin        204 non-null    object \n",
            " 11  Embarked     889 non-null    object \n",
            "dtypes: float64(2), int64(5), object(5)\n",
            "memory usage: 83.7+ KB\n",
            "\n",
            "--- First 5 Rows ---\n",
            "   PassengerId  Survived  Pclass  \\\n",
            "0            1         0       3   \n",
            "1            2         1       1   \n",
            "2            3         1       3   \n",
            "3            4         1       1   \n",
            "4            5         0       3   \n",
            "\n",
            "                                                Name     Sex   Age  SibSp  \\\n",
            "0                            Braund, Mr. Owen Harris    male  22.0      1   \n",
            "1  Cumings, Mrs. John Bradley (Florence Briggs Th...  female  38.0      1   \n",
            "2                             Heikkinen, Miss. Laina  female  26.0      0   \n",
            "3       Futrelle, Mrs. Jacques Heath (Lily May Peel)  female  35.0      1   \n",
            "4                           Allen, Mr. William Henry    male  35.0      0   \n",
            "\n",
            "   Parch            Ticket     Fare Cabin Embarked  \n",
            "0      0         A/5 21171   7.2500   NaN        S  \n",
            "1      0          PC 17599  71.2833   C85        C  \n",
            "2      0  STON/O2. 3101282   7.9250   NaN        S  \n",
            "3      0            113803  53.1000  C123        S  \n",
            "4      0            373450   8.0500   NaN        S  \n",
            "\n",
            "--- Missing Values Count ---\n",
            "PassengerId      0\n",
            "Survived         0\n",
            "Pclass           0\n",
            "Name             0\n",
            "Sex              0\n",
            "Age            177\n",
            "SibSp            0\n",
            "Parch            0\n",
            "Ticket           0\n",
            "Fare             0\n",
            "Cabin          687\n",
            "Embarked         2\n",
            "dtype: int64\n",
            "\n",
            "Filled missing 'Age' values with the median (28.0).\n",
            "Filled missing 'Embarked' values with the mode (S).\n",
            "Dropped the 'Cabin' column due to high number of missing values.\n",
            "\n",
            "--- Missing Values After Imputation/Drop ---\n",
            "PassengerId    0\n",
            "Survived       0\n",
            "Pclass         0\n",
            "Name           0\n",
            "Sex            0\n",
            "Age            0\n",
            "SibSp          0\n",
            "Parch          0\n",
            "Ticket         0\n",
            "Fare           0\n",
            "Embarked       0\n",
            "dtype: int64\n",
            "\n",
            "'Sex' column converted to 'Sex_encoded' using Label Encoding.\n",
            "\n",
            "'Embarked' column converted to one-hot encoded columns.\n",
            "\n",
            "'Age' and 'Fare' columns have been standardized.\n"
          ]
        },
        {
          "output_type": "stream",
          "name": "stderr",
          "text": [
            "/tmp/ipython-input-2073087863.py:24: FutureWarning: A value is trying to be set on a copy of a DataFrame or Series through chained assignment using an inplace method.\n",
            "The behavior will change in pandas 3.0. This inplace method will never work because the intermediate object on which we are setting values always behaves as a copy.\n",
            "\n",
            "For example, when doing 'df[col].method(value, inplace=True)', try using 'df.method({col: value}, inplace=True)' or df[col] = df[col].method(value) instead, to perform the operation inplace on the original object.\n",
            "\n",
            "\n",
            "  df['Age'].fillna(median_age, inplace=True)\n",
            "/tmp/ipython-input-2073087863.py:29: FutureWarning: A value is trying to be set on a copy of a DataFrame or Series through chained assignment using an inplace method.\n",
            "The behavior will change in pandas 3.0. This inplace method will never work because the intermediate object on which we are setting values always behaves as a copy.\n",
            "\n",
            "For example, when doing 'df[col].method(value, inplace=True)', try using 'df.method({col: value}, inplace=True)' or df[col] = df[col].method(value) instead, to perform the operation inplace on the original object.\n",
            "\n",
            "\n",
            "  df['Embarked'].fillna(mode_embarked, inplace=True)\n"
          ]
        },
        {
          "output_type": "stream",
          "name": "stdout",
          "text": [
            "\n",
            "Boxplot for 'Fare' saved as 'fare_boxplot.png'\n",
            "\n",
            "Original shape: (891, 13)\n",
            "Shape after removing outliers in 'Fare': (775, 13)\n",
            "\n",
            "Final cleaned dataset saved to 'titanic_cleaned_data.csv'\n"
          ]
        },
        {
          "output_type": "display_data",
          "data": {
            "text/plain": [
              "<Figure size 1000x600 with 1 Axes>"
            ],
            "image/png": "[encoded data removed]"
          },
          "metadata": {}
        }
      ],
      "source": [
        "import pandas as pd\n",
        "import numpy as np\n",
        "import seaborn as sns\n",
        "import matplotlib.pyplot as plt\n",
        "from sklearn.preprocessing import StandardScaler, LabelEncoder\n",
        "\n",
        "# --- Step 1: Import and Explore Data ---\n",
        "# Load the dataset\n",
        "file_path = \"Titanic-Dataset.csv\"\n",
        "df = pd.read_csv(file_path)\n",
        "\n",
        "print(\"--- Initial Dataset Info ---\")\n",
        "df.info()\n",
        "\n",
        "print(\"\\n--- First 5 Rows ---\")\n",
        "print(df.head())\n",
        "\n",
        "print(\"\\n--- Missing Values Count ---\")\n",
        "print(df.isnull().sum())\n",
        "\n",
        "# --- Step 2: Handle Missing Values ---\n",
        "# Impute missing 'Age' values with the median\n",
        "median_age = df['Age'].median()\n",
        "df['Age'].fillna(median_age, inplace=True)\n",
        "print(f\"\\nFilled missing 'Age' values with the median ({median_age}).\")\n",
        "\n",
        "# Impute missing 'Embarked' values with the mode\n",
        "mode_embarked = df['Embarked'].mode()[0]\n",
        "df['Embarked'].fillna(mode_embarked, inplace=True)\n",
        "print(f\"Filled missing 'Embarked' values with the mode ({mode_embarked}).\")\n",
        "\n",
        "# Drop the 'Cabin' column due to a large number of missing values\n",
        "df.drop('Cabin', axis=1, inplace=True)\n",
        "print(\"Dropped the 'Cabin' column due to high number of missing values.\")\n",
        "\n",
        "# Verify missing values again\n",
        "print(\"\\n--- Missing Values After Imputation/Drop ---\")\n",
        "print(df.isnull().sum())\n",
        "\n",
        "# --- Step 3: Convert Categorical Features ---\n",
        "# Convert 'Sex' into a numerical feature (0 for female, 1 for male)\n",
        "le = LabelEncoder()\n",
        "df['Sex_encoded'] = le.fit_transform(df['Sex'])\n",
        "print(\"\\n'Sex' column converted to 'Sex_encoded' using Label Encoding.\")\n",
        "\n",
        "# One-Hot Encode the 'Embarked' column as it has more than two categories\n",
        "df = pd.get_dummies(df, columns=['Embarked'], drop_first=True)\n",
        "print(\"\\n'Embarked' column converted to one-hot encoded columns.\")\n",
        "\n",
        "# --- Step 4: Normalize/Standardize Numerical Features ---\n",
        "# Select numerical features for scaling\n",
        "numerical_features = ['Age', 'Fare']\n",
        "scaler = StandardScaler()\n",
        "\n",
        "# Fit and transform the selected features\n",
        "df[numerical_features] = scaler.fit_transform(df[numerical_features])\n",
        "print(\"\\n'Age' and 'Fare' columns have been standardized.\")\n",
        "\n",
        "# --- Step 5: Visualize Outliers and Remove ---\n",
        "# Use the 'Fare' column for outlier visualization and removal\n",
        "plt.figure(figsize=(10, 6))\n",
        "sns.boxplot(x=df['Fare'])\n",
        "plt.title('Boxplot of Standardized Fare', fontsize=16)\n",
        "plt.savefig('fare_boxplot.png')\n",
        "print(\"\\nBoxplot for 'Fare' saved as 'fare_boxplot.png'\")\n",
        "\n",
        "# Remove outliers using the IQR method\n",
        "Q1 = df['Fare'].quantile(0.25)\n",
        "Q3 = df['Fare'].quantile(0.75)\n",
        "IQR = Q3 - Q1\n",
        "lower_bound = Q1 - 1.5 * IQR\n",
        "upper_bound = Q3 + 1.5 * IQR\n",
        "\n",
        "# Filter the DataFrame to remove outliers\n",
        "df_no_outliers = df[(df['Fare'] >= lower_bound) & (df['Fare'] <= upper_bound)]\n",
        "print(f\"\\nOriginal shape: {df.shape}\")\n",
        "print(f\"Shape after removing outliers in 'Fare': {df_no_outliers.shape}\")\n",
        "\n",
        "# Save the final cleaned dataset to a new CSV file\n",
        "df_no_outliers.to_csv('titanic_cleaned_data.csv', index=False)\n",
        "print(\"\\nFinal cleaned dataset saved to 'titanic_cleaned_data.csv'\")"
      ]
    },
    {
      "cell_type": "code",
      "source": [
        "from google.colab import drive\n",
        "drive.mount('/content/drive')"
      ],
      "metadata": {
        "colab": {
          "base_uri": "https://localhost:8080/"
        },
        "id": "D1D-ssjH9kMk",
        "outputId": "7214c2e9-1351-489c-cb38-2a953b0d0d79"
      },
      "execution_count": 1,
      "outputs": [
        {
          "output_type": "stream",
          "name": "stdout",
          "text": [
            "Mounted at /content/drive\n"
          ]
        }
      ]
    }
  ]
}